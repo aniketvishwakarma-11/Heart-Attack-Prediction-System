{
 "cells": [
  {
   "cell_type": "code",
   "execution_count": null,
   "metadata": {},
   "outputs": [],
   "source": [
    "def selection5():\n",
    "   input=slope_combobox.get()\n",
    "   if input==\"0=upsloping\":\n",
    "      return(0)\n",
    "   elif input==\"1=flat\":\n",
    "      return(1)\n",
    "   elif input==\"2=downsloping\":\n",
    "      return(2)\n",
    "   else:\n",
    "      print(Exang)\n",
    "\n"
   ]
  }
 ],
 "metadata": {
  "language_info": {
   "name": "python"
  }
 },
 "nbformat": 4,
 "nbformat_minor": 2
}
